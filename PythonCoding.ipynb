{
 "cells": [
  {
   "cell_type": "markdown",
   "id": "63e7fe92-9f44-4085-be14-5d7e7398220c",
   "metadata": {
    "jp-MarkdownHeadingCollapsed": true
   },
   "source": [
    "# 1. FUNCTIONAL PROGRAMMING"
   ]
  },
  {
   "cell_type": "markdown",
   "id": "ee2d9547-bb55-4390-944a-1394a58f8287",
   "metadata": {
    "jp-MarkdownHeadingCollapsed": true
   },
   "source": [
    "## Basic Function Programming"
   ]
  },
  {
   "cell_type": "markdown",
   "id": "2f8fa85d-125d-456a-9e47-f60d24b01720",
   "metadata": {},
   "source": [
    "(1)  Parameter Arguments: *Args, **Kwargs, Unpacking with * and **\\\n",
    "(2) Lambda Functions\\\n",
    "(3) High-Order Functions\\\n",
    "(4) Decorators\\\n",
    "(5) First-Class Functions\\\n",
    "(6) Iterators and Generator \\\n",
    "() Docstrings \\\n",
    "(9)Type Annotations"
   ]
  },
  {
   "cell_type": "markdown",
   "id": "423ec816-dc68-488d-aafb-edb08e2a0439",
   "metadata": {},
   "source": [
    "### 1. Function Arguments "
   ]
  },
  {
   "cell_type": "markdown",
   "id": "c07dc754-01da-4c98-ba36-cf0cb33d5ee9",
   "metadata": {},
   "source": [
    "→ The two are same, they both are parameters that take multiple arguments separated by comma.\n",
    "\n",
    "→ *args stores it as a tuple, returns as a tuple. \n",
    "\n",
    "→ **kwargs requires keyword when function is called and stores as dict, returns a dict. \n",
    "\n",
    "→ can exist at the same time\n",
    "\n",
    "→ *args must come before **kwargs\n",
    "\n",
    "- `*args`:\n",
    "    - Takes multiple positional arguments, separated by commas.\n",
    "    - Arguments are stored as a **tuple**.\n",
    "    - Does not require keywords when calling the function.\n",
    "    - `Tuple`:\n",
    "      - immutable, (), behaves like list \n",
    "- `*kwargs`:\n",
    "    - Takes multiple keyword arguments, separated by commas.\n",
    "    - Arguments are stored as a **dictionary**.\n",
    "    - Requires each argument to be passed with a **keyword** when calling the function: (`key=value` ,`key=value` ,`key=value` )\n",
    "        - when you pass arguments to a function that uses `**kwargs`, you must provide the arguments in a `key=value` format.\n",
    "            - The `key` in this case becomes the **key** in the dictionary that `**kwargs` collects, and the `value` becomes the associated **value**."
   ]
  },
  {
   "cell_type": "code",
   "execution_count": 3,
   "id": "35b901c0-7a8e-4dc7-964d-e129a211a727",
   "metadata": {},
   "outputs": [
    {
     "data": {
      "text/plain": [
       "3"
      ]
     },
     "execution_count": 3,
     "metadata": {},
     "output_type": "execute_result"
    }
   ],
   "source": [
    "def add(A,B):\n",
    "    return A + B\n",
    "add(1,2)"
   ]
  },
  {
   "cell_type": "code",
   "execution_count": 8,
   "id": "0d79d581-7f4c-419f-a41e-b8e359a1713f",
   "metadata": {},
   "outputs": [
    {
     "data": {
      "text/plain": [
       "15"
      ]
     },
     "execution_count": 8,
     "metadata": {},
     "output_type": "execute_result"
    }
   ],
   "source": [
    "def add(*items):\n",
    "    count = 0\n",
    "    for i in items:\n",
    "        count += i\n",
    "    return count\n",
    "\n",
    "add(1,2,3,3,3,3)\n",
    "\n",
    "'''\n",
    "1. take the args passed and pack it into a tuble\n",
    "2. the unpack \n",
    "'''"
   ]
  },
  {
   "cell_type": "code",
   "execution_count": 17,
   "id": "09467903-d603-4ba7-9091-7e4e6a24a6c3",
   "metadata": {},
   "outputs": [
    {
     "name": "stdout",
     "output_type": "stream",
     "text": [
      "Dr. Rayan Hayle "
     ]
    }
   ],
   "source": [
    "def display_name(*name):\n",
    "    for item in name:\n",
    "        item = item.capitalize()\n",
    "        print(item, end = ' ')\n",
    "display_name('dr.','rayan','hayle')"
   ]
  },
  {
   "cell_type": "code",
   "execution_count": 19,
   "id": "46f5486f-97f5-4d14-b1d9-1e1213c13896",
   "metadata": {},
   "outputs": [
    {
     "name": "stdout",
     "output_type": "stream",
     "text": [
      "Nice to meet you bob\n",
      "Nice to meet you jonh\n",
      "Nice to meet you jake\n",
      "Nice to meet you ray\n"
     ]
    }
   ],
   "source": [
    "def greeting(*greet):\n",
    "    for item in greet:\n",
    "        print('Nice to meet you', item)\n",
    "greeting('bob','jonh','jake','ray')"
   ]
  },
  {
   "cell_type": "markdown",
   "id": "43df466e-ad16-4d7e-baea-62b513e7986a",
   "metadata": {},
   "source": [
    "**Dict Review**\n",
    "1. access a value  → **variable[key]**\n",
    "2. add or change value  → **variable[key] = value**\n",
    "3. update mutiple values  → **variable = { key: value, key:value..}** | **varibale.update({ key: value, key:value..} )**\n",
    "4. Dict comprehension to combine two dicts  →   **x = { key: value for key,value in zip (key,value) }**\n",
    "5. method to get value :** variable.get(keyname)** |  **variable.get(keyname,value)**\n",
    "6. key will only return keys → **variable = dict.keys()**\n",
    "7. value will only return values → **variable = dict.values()**\n",
    "8. to get both value and key  → **variable.items()**"
   ]
  },
  {
   "cell_type": "code",
   "execution_count": 32,
   "id": "b500a137-26e7-4561-bf14-26468857dfc9",
   "metadata": {},
   "outputs": [
    {
     "name": "stdout",
     "output_type": "stream",
     "text": [
      "{'Jenny': 61, 'Alexus': 70, 'Sam': 67, 'Grace': 64}\n",
      "{'Jenny': 61, 'Alexus': 70, 'Sam': 67, 'Grace': 64}\n",
      "<zip object at 0x10be470c0>\n"
     ]
    }
   ],
   "source": [
    "# 4. dict comprehension\n",
    "names = ['Jenny', 'Alexus', 'Sam', 'Grace']\n",
    "heights = [61, 70, 67, 64]\n",
    "\n",
    "student = { name_key:heights_value for name_key,heights_value in zip(names,heights)} # works\n",
    "print(student)\n",
    "student = { key:value for key,value in zip(names,heights)} # works\n",
    "print(student)\n",
    "student = zip(names,heights)\n",
    "print(student)"
   ]
  },
  {
   "cell_type": "code",
   "execution_count": 33,
   "id": "299f5ea6-7ba1-4ed9-8a5a-00aa424c3d59",
   "metadata": {},
   "outputs": [
    {
     "name": "stdout",
     "output_type": "stream",
     "text": [
      "The company:Apple Values is 184 billion dollars.\n",
      "The company:Google Values is 141.7 billion dollars.\n",
      "The company:Microsoft Values is 80 billion dollars.\n",
      "The company:Coca-Cola Values is 69.7 billion dollars.\n",
      "The company:Amazon Values is 64.8 billion dollars.\n"
     ]
    }
   ],
   "source": [
    "biggest_brands = {\"Apple\": 184, \"Google\": 141.7, \"Microsoft\": 80, \"Coca-Cola\": 69.7, \"Amazon\": 64.8}\n",
    "\n",
    "\n",
    "for my_key, my_value in biggest_brands.items(): \n",
    "  #  print(my_key + 'has values of:'+ str(my_value) + 'billion dollar')\n",
    "\n",
    "# , and + makes a differnce \n",
    "    t = \"The company:\" + my_key\n",
    "    j = \"Values is \" + str(my_value) + \" billion dollars.\"\n",
    "    \n",
    "    print(t,j)"
   ]
  },
  {
   "cell_type": "code",
   "execution_count": 64,
   "id": "2052cec5-7f08-448c-aedd-3f380a2572d7",
   "metadata": {},
   "outputs": [
    {
     "name": "stdout",
     "output_type": "stream",
     "text": [
      "Apple is worth $184 billion\n",
      "Google is worth $141.7 billion\n",
      "Microsoft is worth $80 billion\n",
      "Coca-Cola is worth $69.7 billion\n",
      "Amazon is worth $64.8 billion\n"
     ]
    }
   ],
   "source": [
    "biggest_brands = {\"Apple\": 184, \"Google\": 141.7, \"Microsoft\": 80, \"Coca-Cola\": 69.7, \"Amazon\": 64.8}\n",
    "\n",
    "for key, value in biggest_brands.items():\n",
    "    print(f'{key} is worth ${value} billion')"
   ]
  },
  {
   "cell_type": "code",
   "execution_count": 41,
   "id": "66c4824a-a819-447f-962f-e4ef52bc7ee7",
   "metadata": {},
   "outputs": [
    {
     "data": {
      "text/plain": [
       "{'street': '10027 columbia',\n",
       " 'city': 'nyc',\n",
       " 'state': 'new york',\n",
       " 'country': 'USA'}"
      ]
     },
     "execution_count": 41,
     "metadata": {},
     "output_type": "execute_result"
    }
   ],
   "source": [
    "def address(**kwargs):\n",
    "    return kwargs\n",
    "\n",
    "\n",
    "address(street = '10027 columbia',\n",
    "        city = 'nyc', \n",
    "        state = 'new york', \n",
    "        country = 'USA')"
   ]
  },
  {
   "cell_type": "code",
   "execution_count": 62,
   "id": "1b1dd07f-e8b9-4cdf-8e5e-7f584b845531",
   "metadata": {},
   "outputs": [
    {
     "name": "stdout",
     "output_type": "stream",
     "text": [
      " 123 fake street  nyc  nys  10027 \n",
      "\n",
      "street : 123 fake street\n",
      "city : nyc\n",
      "state : nys\n",
      "zip : 10027\n"
     ]
    }
   ],
   "source": [
    "def address(**kwargs):\n",
    "    for value in kwargs.values():\n",
    "        print(f' {value}', end = ' ',)\n",
    "    print('\\n')\n",
    "\n",
    "    for key,value in kwargs.items():\n",
    "        print(f'{key} : {value}')\n",
    "\n",
    "address( street = '123 fake street',city = 'nyc' , state = 'nys', zip = 10027)"
   ]
  },
  {
   "cell_type": "markdown",
   "id": "805e3192-cfbe-419a-8736-14df0df71e1c",
   "metadata": {},
   "source": [
    "https://www.youtube.com/watch?v=Vh__2V2tXUM&t=517s"
   ]
  },
  {
   "cell_type": "code",
   "execution_count": null,
   "id": "986ef6c6-0890-49b4-a139-13a168ba3692",
   "metadata": {},
   "outputs": [],
   "source": []
  },
  {
   "cell_type": "code",
   "execution_count": null,
   "id": "9d775111-5e3a-4257-b8fa-c3f5acb9b01a",
   "metadata": {},
   "outputs": [],
   "source": []
  },
  {
   "cell_type": "code",
   "execution_count": null,
   "id": "ff3c6c72-6323-4e3b-aa14-cb67fb30f189",
   "metadata": {},
   "outputs": [],
   "source": []
  },
  {
   "cell_type": "code",
   "execution_count": null,
   "id": "ae950b8c-101a-466f-8952-a4797bd26c38",
   "metadata": {},
   "outputs": [],
   "source": []
  },
  {
   "cell_type": "markdown",
   "id": "02c27b67-4a93-4b1e-af03-e86d27b8a945",
   "metadata": {},
   "source": [
    "### 2. Lambda Functions"
   ]
  },
  {
   "cell_type": "code",
   "execution_count": null,
   "id": "4880a10c-8897-4e0b-acc9-dfbab07fab32",
   "metadata": {},
   "outputs": [],
   "source": []
  },
  {
   "cell_type": "code",
   "execution_count": null,
   "id": "12834a7c-8cd4-4e6f-96d9-f420d438db42",
   "metadata": {},
   "outputs": [],
   "source": []
  },
  {
   "cell_type": "code",
   "execution_count": null,
   "id": "e7ed6711-ff12-4f83-ada0-d01b0b9881e1",
   "metadata": {},
   "outputs": [],
   "source": []
  },
  {
   "cell_type": "code",
   "execution_count": null,
   "id": "61e43344-f95c-4d69-a9bc-3615210b33ca",
   "metadata": {},
   "outputs": [],
   "source": []
  },
  {
   "cell_type": "markdown",
   "id": "94004331-331c-4c4f-aed1-384484e3539a",
   "metadata": {},
   "source": [
    "## Advanced Function Programming"
   ]
  },
  {
   "cell_type": "markdown",
   "id": "ec885c2a-d958-4347-998b-56d04add63ea",
   "metadata": {},
   "source": [
    "https://www.youtube.com/watch?v=oWydwUxg5ZE&t=1435s"
   ]
  },
  {
   "cell_type": "markdown",
   "id": "6055548b-7d3f-43f5-a82e-7214d7c8962e",
   "metadata": {},
   "source": []
  },
  {
   "cell_type": "code",
   "execution_count": null,
   "id": "8bd52ae7-f6c0-4580-8b6f-ed27596d00c2",
   "metadata": {},
   "outputs": [],
   "source": []
  },
  {
   "cell_type": "code",
   "execution_count": null,
   "id": "599823d0-d90a-4976-ba51-e35202426c19",
   "metadata": {},
   "outputs": [],
   "source": []
  },
  {
   "cell_type": "markdown",
   "id": "4c2fa4e9-2be0-4620-bdd1-f02cf63f9f94",
   "metadata": {
    "jp-MarkdownHeadingCollapsed": true
   },
   "source": [
    "# 2. OBJECT ORIENTED PROGRAMMING"
   ]
  },
  {
   "cell_type": "markdown",
   "id": "0c5ccf33-63e2-4f00-91d3-8471183f6d5d",
   "metadata": {},
   "source": [
    "(1) Class \\\n",
    "(2) Object\\\n",
    "(3) Inheritance\\\n",
    "(4) Encapsulation\\\n",
    "(5) Polymorphism\\\n",
    "(6) Data Abstraction\\\n",
    "(7) Unit Testing"
   ]
  },
  {
   "cell_type": "markdown",
   "id": "b78ba627-73bf-4468-97fb-2fc15f6e58ff",
   "metadata": {},
   "source": [
    "https://www.youtube.com/watch?v=JeznW_7DlB0"
   ]
  },
  {
   "cell_type": "markdown",
   "id": "3fb1dde6-05ef-4e4f-9194-d45c887e20bc",
   "metadata": {},
   "source": [
    "# 3. Data Structures "
   ]
  },
  {
   "cell_type": "markdown",
   "id": "a3511629-cde4-4e47-80a8-c0b98081a776",
   "metadata": {},
   "source": [
    "## What is Data Structures"
   ]
  },
  {
   "cell_type": "markdown",
   "id": "0ef03aa6-ef46-45b1-89d6-9f4e05761fb8",
   "metadata": {},
   "source": [
    "**1. Primitive Data Structures - basic building block, store single data value**\n",
    "    (1) Integers: Whole numbers (e.g., 5, -10)\\\n",
    "    (2) Floats: Decimal numbers (e.g., 3.14, -0.001)\\\n",
    "    (3) Booleans: True or False values (True, False)\\\n",
    "    (4) Strings: Sequence of characters (\"hello\", \"Python\")\n",
    "\n",
    "\n",
    "**2. Non-Primitive Data Structures - store multiple data values**\n",
    "    (1) Lists: Ordered, mutable collections of items (e.g., [1, 2, 3])\\\n",
    "    (2) Tuples: Ordered, immutable collections of items (e.g., (1, 2, 3))\\\n",
    "    (3) Sets: Unordered, mutable collections of unique items (e.g., {1, 2, 3})\\\n",
    "    (4) Dictionaries: Key-value pairs (e.g., {'name': 'Alice', 'age': 25})\\\n",
    "    (5) Frozen Sets: Immutable version of sets (e.g., frozenset([1, 2, 3]))\n",
    "\n",
    "**3. User-Defined Data Structures**\n",
    "    (1) Stacks: LIFO (Last In, First Out) data structure. Can be implemented using lists.\\\n",
    "    (2) Queues: FIFO (First In, First Out) data structure. Can be implemented using lists or collections.deque.\\\n",
    "    (3) Deques: Double-ended queues (collections.deque) allow for insertion and deletion at both ends.\\\n",
    "    (4) Linked Lists: Sequential collection of nodes, with each node pointing to the next.\\\n",
    "    (5) Trees: Hierarchical data structure with nodes (binary trees, AVL trees, etc.)\\\n",
    "    (6) Graphs: Collection of nodes connected by edges (can be directed or undirected)\\\n",
    "    (7) Hash Tables: Implements an associative array, storing key-value pairs (Python's dictionary is a hash table)"
   ]
  },
  {
   "cell_type": "markdown",
   "id": "64081c26-a2f3-4b42-88e1-3afd5887cfb4",
   "metadata": {},
   "source": [
    "**Data Structures**\\\n",
    "(1) Arrays\\\n",
    "(2) Strings\\\n",
    "(3) Linked Lists\\\n",
    "(4) Stacks\\\n",
    "(5) Queues\n",
    "(6) Hash Tables/Hash Maps\\\n",
    "(7) Trees: Binary Tree, Binary Search Tree\\\n",
    "(8) Heaps\\\n",
    "(9) Graphs"
   ]
  },
  {
   "cell_type": "markdown",
   "id": "b6e314ad-7832-4aac-966b-0669e1e4e623",
   "metadata": {},
   "source": [
    "## 1. Array "
   ]
  },
  {
   "cell_type": "markdown",
   "id": "97036c5a-65b0-41ec-9b66-f0877eb78f02",
   "metadata": {},
   "source": [
    "### 1. Node"
   ]
  },
  {
   "cell_type": "code",
   "execution_count": null,
   "id": "a9e83900-43fe-4e45-aa12-158a28d280ba",
   "metadata": {},
   "outputs": [],
   "source": []
  }
 ],
 "metadata": {
  "kernelspec": {
   "display_name": "Python 3 (ipykernel)",
   "language": "python",
   "name": "python3"
  },
  "language_info": {
   "codemirror_mode": {
    "name": "ipython",
    "version": 3
   },
   "file_extension": ".py",
   "mimetype": "text/x-python",
   "name": "python",
   "nbconvert_exporter": "python",
   "pygments_lexer": "ipython3",
   "version": "3.12.2"
  },
  "widgets": {
   "application/vnd.jupyter.widget-state+json": {
    "state": {},
    "version_major": 2,
    "version_minor": 0
   }
  }
 },
 "nbformat": 4,
 "nbformat_minor": 5
}
